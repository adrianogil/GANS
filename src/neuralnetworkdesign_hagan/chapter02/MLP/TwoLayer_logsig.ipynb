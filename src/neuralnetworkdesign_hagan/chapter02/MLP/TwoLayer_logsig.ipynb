{
 "cells": [
  {
   "cell_type": "markdown",
   "metadata": {},
   "source": [
    "# Multilayer Perceptron - Two layers using MLP"
   ]
  },
  {
   "cell_type": "markdown",
   "metadata": {},
   "source": [
    "## Loading modules"
   ]
  },
  {
   "cell_type": "code",
   "execution_count": 1,
   "metadata": {},
   "outputs": [],
   "source": [
    "import ipyvolume as ipv\n",
    "import numpy as np\n",
    "from ipywidgets import interactive\n",
    "import matplotlib.pyplot as plt"
   ]
  },
  {
   "cell_type": "markdown",
   "metadata": {},
   "source": [
    "## Helper functions"
   ]
  },
  {
   "cell_type": "code",
   "execution_count": 2,
   "metadata": {
    "scrolled": true
   },
   "outputs": [],
   "source": [
    "def na(x):\n",
    "    return np.array(x)\n",
    "\n",
    "def draw_grid(x,y,z):\n",
    "    ipv.plot_wireframe(x, y, z * np.ones(x.shape), color=\"black\")\n",
    "\n",
    "def show_point(x,y,z):\n",
    "    x = na([float(x)])\n",
    "    y = na([float(y)])\n",
    "    z = na([float(z)])\n",
    "    ipv.scatter(x,y,z, color=\"blue\", marker=\"sphere\",size=5)"
   ]
  },
  {
   "cell_type": "markdown",
   "metadata": {},
   "source": [
    "## Define Neuron and MLP"
   ]
  },
  {
   "cell_type": "code",
   "execution_count": 48,
   "metadata": {},
   "outputs": [],
   "source": [
    "def neuron(f,input,weight,bias):\n",
    "    return f(input * weight + bias)\n",
    "\n",
    "def mlp(f,input,w1,w2,w3,w4,b1,b2,b3):\n",
    "    n1 = neuron(f, input, w1, b1)\n",
    "    n2 = neuron(f, input, w2, b2)\n",
    "    n3 = f(n1 * w3 + n2 * w4 + b3)\n",
    "\n",
    "    return n3\n",
    "\n",
    "def mlp_2(f,p1,p2,w1,w2,w3,w4,b1,b2,b3):\n",
    "    n1 = neuron(f, p1, w1, b1)\n",
    "    n2 = neuron(f, p2, w2, b2)\n",
    "    n3 = f(n1 * w3 + n2 * w4 + b3)\n",
    "\n",
    "    return n3\n",
    "\n",
    "def mlp_3(f,p1,p2,w1,w2,w3,w4,w5,b1,b2,b3):\n",
    "    n1 = f(p1 * w1 + p2 * w2 + b1)\n",
    "    n2 = f(p1 * w3 + p2 * w4 + b2)\n",
    "    n3 = f(n1 * w4 + n2 * w5 + b3)\n",
    "\n",
    "    return n3\n",
    "\n",
    "def mlp_4(f,p1,p2,w1,w2,w3,w4,w5,w6,w7,w8,b1,b2,b3,b4):\n",
    "    n1 = f(p1 * w1 + p2 * w2 + b1)\n",
    "    n2 = f(p1 * w3 + p2 * w4 + b2)\n",
    "    n3 = f(p1 * w5 + p2 * w6 + b3)\n",
    "    n4 = f(n1 * w7 + n2 * w8 + b4)\n",
    "\n",
    "    return n4\n",
    "\n",
    "class MultilayerPerceptron:\n",
    "    def __init__(self):\n",
    "        self.layers = []\n",
    "        self.number_layers = 0\n",
    "        self.neuronal_function = logsig\n",
    "    \n",
    "    def predict(self, **kwargs):\n",
    "        neuron_input = {}\n",
    "        weights = []\n",
    "        bias = []\n",
    "        for key in kwargs:\n",
    "            if key.startswith(\"p\"):\n",
    "                neuron_input[key] = kwargs[key]\n",
    "            elif key.startswith(\"w\"):\n",
    "                weights.append(key)\n",
    "            elif key.startswith(\"b\"):\n",
    "                bias.append(key)\n",
    "        next_layer_input = {}\n",
    "\n",
    "        for layer_number, number_neurons in enumerate(self.layers):\n",
    "            next_layer_input = {}\n",
    "            for n in range(0, number_neurons):\n",
    "                na = 0\n",
    "                for i, p in enumerate(neuron_input):\n",
    "                    # print(str(neuron_input[p]))\n",
    "                    # print(str(weights[i]))\n",
    "                    na += neuron_input[p] * kwargs[weights[i]]\n",
    "                na += kwargs[bias[0]]\n",
    "                aa = self.neuronal_function(na)\n",
    "                bias = bias[1:]\n",
    "                weights = weights[len(list(neuron_input.keys())):]\n",
    "                next_layer_input[\"n\" + str(n)] = aa\n",
    "            neuron_input = next_layer_input\n",
    "\n",
    "        return next_layer_input[next(iter(next_layer_input))]\n",
    "\n",
    "    \n",
    "    @staticmethod\n",
    "    def generate(arch):\n",
    "        mlp_nn = MultilayerPerceptron()\n",
    "        mlp_nn.number_layers = len(arch) - 1\n",
    "        mlp_nn.input_size = arch[0]\n",
    "        mlp_nn.layers = arch[1:]\n",
    "        \n",
    "        return mlp_nn"
   ]
  },
  {
   "cell_type": "markdown",
   "metadata": {},
   "source": [
    "## Define Neural Transfer Function: logsig"
   ]
  },
  {
   "cell_type": "code",
   "execution_count": 4,
   "metadata": {},
   "outputs": [],
   "source": [
    "def logsig(n):\n",
    "    return 1 / (1 + np.exp(n))\n",
    "\n",
    "neural_function = logsig"
   ]
  },
  {
   "cell_type": "code",
   "execution_count": 14,
   "metadata": {},
   "outputs": [
    {
     "output_type": "display_data",
     "data": {
      "text/plain": "interactive(children=(FloatSlider(value=0.0, description='w1', max=1.0, min=-1.0), FloatSlider(value=0.0, desc…",
      "application/vnd.jupyter.widget-view+json": {
       "version_major": 2,
       "version_minor": 0,
       "model_id": "b6c9c3223ae7492f9218a3d50cec7ac8"
      }
     },
     "metadata": {}
    }
   ],
   "source": [
    "%matplotlib inline\n",
    "\n",
    "def f(w1,w2,w3,w4,b1,b2,b3):\n",
    "    plt.figure(2)\n",
    "    x = np.linspace(-2, 2, num=1000)\n",
    "    a = mlp(neural_function,x,w1,w2,w3,w4,b1,b2,b3)\n",
    "    plt.plot(x, a)\n",
    "    plt.ylim(-3, 3)\n",
    "    plt.xlim(-2, 2)\n",
    "    plt.show()\n",
    "\n",
    "interactive_plot = interactive(f, w1=(-1,1,0.1), w2=(-1,1,0.1), w3=(-1,1,0.1), w4=(-1,1,0.1), b1=(-1,1,0.1), b2=(-1,1,0.1), b3=(-1,1,0.1))\n",
    "output = interactive_plot.children[-1]\n",
    "output.layout.height = '350px'\n",
    "interactive_plot"
   ]
  },
  {
   "cell_type": "code",
   "execution_count": 19,
   "metadata": {},
   "outputs": [
    {
     "output_type": "display_data",
     "data": {
      "text/plain": "interactive(children=(FloatSlider(value=0.0, description='w1', max=1.0, min=-1.0), FloatSlider(value=0.0, desc…",
      "application/vnd.jupyter.widget-view+json": {
       "version_major": 2,
       "version_minor": 0,
       "model_id": "56e177a28a7b481c86c44a069d9241e7"
      }
     },
     "metadata": {}
    }
   ],
   "source": [
    "a = np.arange(-5, 5)\n",
    "U, V = np.meshgrid(a, a)\n",
    "\n",
    "def f(w1,w2,w3,w4,b1,b2,b3):\n",
    "    X = U\n",
    "    Y = V\n",
    "\n",
    "    a = mlp_2(neural_function,X,Y,w1,w2,w3,w4,b1,b2,b3)\n",
    "\n",
    "    ipv.figure(width=400,height=600, offline=True)    \n",
    "    ipv.plot_surface(X, Y, a, color=\"orange\")\n",
    "    ipv.plot_wireframe(X, Y, a, color=\"red\")\n",
    "    show_point(0,0,0)\n",
    "    draw_grid(X,Y,0)\n",
    "    ipv.show()\n",
    "\n",
    "interactive_plot = interactive(f, w1=(-1,1,0.1), w2=(-1,1,0.1), w3=(-1,1,0.1), w4=(-1,1,0.1), b1=(-1,1,0.1), b2=(-1,1,0.1), b3=(-1,1,0.1))\n",
    "output = interactive_plot.children[-1]\n",
    "interactive_plot"
   ]
  },
  {
   "cell_type": "code",
   "execution_count": 24,
   "metadata": {},
   "outputs": [
    {
     "output_type": "display_data",
     "data": {
      "text/plain": "interactive(children=(FloatSlider(value=0.0, description='w1', max=1.0, min=-1.0), FloatSlider(value=0.0, desc…",
      "application/vnd.jupyter.widget-view+json": {
       "version_major": 2,
       "version_minor": 0,
       "model_id": "369825603fda469699e6105f1505f58b"
      }
     },
     "metadata": {}
    }
   ],
   "source": [
    "a = np.arange(-5, 5)\n",
    "U, V = np.meshgrid(a, a)\n",
    "\n",
    "def f(w1,w2,w3,w4,w5,b1,b2,b3):\n",
    "    X = U\n",
    "    Y = V\n",
    "\n",
    "    a = mlp_3(neural_function,X,Y,w1,w2,w3,w4,w5,b1,b2,b3)\n",
    "\n",
    "    ipv.figure(width=400,height=600, offline=True)    \n",
    "    ipv.plot_surface(X, Y, a, color=\"orange\")\n",
    "    ipv.plot_wireframe(X, Y, a, color=\"red\")\n",
    "    show_point(0,0,0)\n",
    "    draw_grid(X,Y,0)\n",
    "    ipv.show()\n",
    "\n",
    "interactive_plot = interactive(f, w1=(-1,1,0.1), w2=(-1,1,0.1), w3=(-1,1,0.1), w4=(-1,1,0.1), w5=(-1,1,0.1), b1=(-1,1,0.1), b2=(-1,1,0.1), b3=(-1,1,0.1))\n",
    "output = interactive_plot.children[-1]\n",
    "interactive_plot"
   ]
  },
  {
   "cell_type": "code",
   "execution_count": 26,
   "metadata": {},
   "outputs": [
    {
     "output_type": "display_data",
     "data": {
      "text/plain": "interactive(children=(FloatSlider(value=0.0, description='w1', max=1.0, min=-1.0), FloatSlider(value=0.0, desc…",
      "application/vnd.jupyter.widget-view+json": {
       "version_major": 2,
       "version_minor": 0,
       "model_id": "34213c36c41f4d6fa41e07cb17e1b497"
      }
     },
     "metadata": {}
    }
   ],
   "source": [
    "a = np.arange(-5, 5)\n",
    "U, V = np.meshgrid(a, a)\n",
    "\n",
    "def f(w1,w2,w3,w4,w5,w6,w7,w8,b1,b2,b3,b4):\n",
    "    X = U\n",
    "    Y = V\n",
    "\n",
    "    a = mlp_3(neural_function,X,Y,w1,w2,w3,w4,w5,b1,b2,b3)\n",
    "\n",
    "    ipv.figure(width=400,height=600, offline=True)    \n",
    "    ipv.plot_surface(X, Y, a, color=\"orange\")\n",
    "    ipv.plot_wireframe(X, Y, a, color=\"red\")\n",
    "    show_point(0,0,0)\n",
    "    draw_grid(X,Y,0)\n",
    "    ipv.show()\n",
    "\n",
    "interactive_plot = interactive(\n",
    "    f, w1=(-1,1,0.1), w2=(-1,1,0.1), w3=(-1,1,0.1), w4=(-1,1,0.1), w5=(-1,1,0.1), w6=(-1,1,0.1), w7=(-1,1,0.1), w8=(-1,1,0.1), \n",
    "    b1=(-1,1,0.1), b2=(-1,1,0.1), b3=(-1,1,0.1), b4=(-1,1,0.1)\n",
    ")\n",
    "output = interactive_plot.children[-1]\n",
    "interactive_plot"
   ]
  },
  {
   "cell_type": "code",
   "execution_count": 49,
   "metadata": {},
   "outputs": [
    {
     "output_type": "display_data",
     "data": {
      "text/plain": "interactive(children=(FloatSlider(value=0.0, description='w0', max=1.0, min=-1.0), FloatSlider(value=0.0, desc…",
      "application/vnd.jupyter.widget-view+json": {
       "version_major": 2,
       "version_minor": 0,
       "model_id": "7d79d57939fb4304815abe7c972d6652"
      }
     },
     "metadata": {}
    }
   ],
   "source": [
    "a = np.arange(-5, 5)\n",
    "U, V = np.meshgrid(a, a)\n",
    "\n",
    "target_arch = [2, 5, 2, 1]\n",
    "weights_def = {}\n",
    "bias_def = {}\n",
    "\n",
    "input_size = target_arch[0]\n",
    "\n",
    "w_index = 0\n",
    "b_index = 0\n",
    "\n",
    "for number_neuron in target_arch[1:]:\n",
    "    for i in range(0, number_neuron):\n",
    "        for j in range(0, input_size):\n",
    "            weights_def[\"w\" + str(w_index)] = (-1,1,0.1)\n",
    "            w_index += 1\n",
    "\n",
    "        bias_def[\"b\" + str(b_index)] = (-1,1,0.1)\n",
    "        b_index += 1\n",
    "    input_size = number_neuron\n",
    "\n",
    "nn = MultilayerPerceptron.generate(target_arch)\n",
    "\n",
    "def f(**kwargs):\n",
    "    X = U\n",
    "    Y = V\n",
    "    a = nn.predict(p1=X, p2=Y, **kwargs)\n",
    "\n",
    "    ipv.figure(width=400,height=600, offline=True)    \n",
    "    ipv.plot_surface(X, Y, a, color=\"orange\")\n",
    "    ipv.plot_wireframe(X, Y, a, color=\"red\")\n",
    "    show_point(0,0,0)\n",
    "    draw_grid(X,Y,0)\n",
    "    ipv.show()\n",
    "\n",
    "interactive_plot = interactive(\n",
    "    f, **weights_def, **bias_def\n",
    ")\n",
    "output = interactive_plot.children[-1]\n",
    "interactive_plot"
   ]
  },
  {
   "cell_type": "code",
   "execution_count": null,
   "metadata": {},
   "outputs": [],
   "source": []
  },
  {
   "cell_type": "code",
   "execution_count": null,
   "metadata": {},
   "outputs": [],
   "source": []
  }
 ],
 "metadata": {
  "kernelspec": {
   "display_name": "Python 3.6.5 64-bit ('pydeep': virtualenv)",
   "language": "python",
   "name": "python36564bitpydeepvirtualenvfedb6568ef3d4e13bf936bb2af8dcf94"
  },
  "language_info": {
   "codemirror_mode": {
    "name": "ipython",
    "version": 3
   },
   "file_extension": ".py",
   "mimetype": "text/x-python",
   "name": "python",
   "nbconvert_exporter": "python",
   "pygments_lexer": "ipython3",
   "version": "3.6.5-final"
  }
 },
 "nbformat": 4,
 "nbformat_minor": 4
}