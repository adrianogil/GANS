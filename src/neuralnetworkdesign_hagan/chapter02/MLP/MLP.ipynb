{
 "cells": [
  {
   "cell_type": "markdown",
   "metadata": {},
   "source": [
    "# Multilayer Perceptron"
   ]
  },
  {
   "cell_type": "markdown",
   "metadata": {},
   "source": [
    "## Loading modules"
   ]
  },
  {
   "cell_type": "code",
   "execution_count": 18,
   "metadata": {},
   "outputs": [],
   "source": [
    "import ipyvolume as ipv\n",
    "import numpy as np\n",
    "from ipywidgets import interactive, FloatSlider\n",
    "import matplotlib.pyplot as plt"
   ]
  },
  {
   "cell_type": "markdown",
   "metadata": {},
   "source": [
    "## Helper functions"
   ]
  },
  {
   "cell_type": "code",
   "execution_count": 10,
   "metadata": {
    "scrolled": true
   },
   "outputs": [],
   "source": [
    "def na(x):\n",
    "    return np.array(x)\n",
    "\n",
    "def draw_grid(x,y,z):\n",
    "    ipv.plot_wireframe(x, y, z * np.ones(x.shape), color=\"black\")\n",
    "\n",
    "def show_point(x,y,z):\n",
    "    x = na([float(x)])\n",
    "    y = na([float(y)])\n",
    "    z = na([float(z)])\n",
    "    ipv.scatter(x,y,z, color=\"blue\", marker=\"sphere\",size=5)"
   ]
  },
  {
   "cell_type": "markdown",
   "metadata": {},
   "source": [
    "## Define Neuron and MLP"
   ]
  },
  {
   "cell_type": "code",
   "execution_count": 26,
   "metadata": {},
   "outputs": [],
   "source": [
    "class MultilayerPerceptron:\n",
    "    def __init__(self):\n",
    "        self.layers = []\n",
    "        self.number_layers = 0\n",
    "        self.neuronal_function = []\n",
    "    \n",
    "    def predict(self, **kwargs):\n",
    "        neuron_input = {}\n",
    "        weights = []\n",
    "        bias = []\n",
    "        for key in kwargs:\n",
    "            if key.startswith(\"p\"):\n",
    "                neuron_input[key] = kwargs[key]\n",
    "            elif key.startswith(\"w\"):\n",
    "                weights.append(key)\n",
    "            elif key.startswith(\"b\"):\n",
    "                bias.append(key)\n",
    "        next_layer_input = {}\n",
    "\n",
    "        for layer_number, number_neurons in enumerate(self.layers):\n",
    "            next_layer_input = {}\n",
    "            for n in range(0, number_neurons):\n",
    "                na = 0\n",
    "                for i, p in enumerate(neuron_input):\n",
    "                    # print(str(neuron_input[p]))\n",
    "                    # print(str(weights[i]))\n",
    "                    na += neuron_input[p] * kwargs[weights[i]]\n",
    "                na += kwargs[bias[0]]\n",
    "\n",
    "                neuron_function = self.neuronal_function[layer_number]\n",
    "                if neuron_function.__class__ == list:\n",
    "                    neuron_function = self.neuronal_function[layer_number][n]\n",
    "                aa = neuron_function(na)\n",
    "                bias = bias[1:]\n",
    "                weights = weights[len(list(neuron_input.keys())):]\n",
    "                next_layer_input[\"n\" + str(n)] = aa\n",
    "            neuron_input = next_layer_input\n",
    "\n",
    "        return next_layer_input[next(iter(next_layer_input))]\n",
    "\n",
    "    \n",
    "    @staticmethod\n",
    "    def generate(arch, neuronal_function):\n",
    "        mlp_nn = MultilayerPerceptron()\n",
    "        mlp_nn.number_layers = len(arch) - 1\n",
    "        mlp_nn.input_size = arch[0]\n",
    "        mlp_nn.layers = arch[1:]\n",
    "        mlp_nn.neuronal_function = neuronal_function\n",
    "        \n",
    "        return mlp_nn"
   ]
  },
  {
   "cell_type": "markdown",
   "metadata": {},
   "source": [
    "## Define Neural Transfer Functions"
   ]
  },
  {
   "cell_type": "code",
   "execution_count": 12,
   "metadata": {},
   "outputs": [],
   "source": [
    "def logsig(n):\n",
    "    return 1 / (1 + np.exp(n))\n",
    "\n",
    "def purelin(n):\n",
    "    return n"
   ]
  },
  {
   "cell_type": "code",
   "execution_count": 28,
   "metadata": {},
   "outputs": [
    {
     "output_type": "display_data",
     "data": {
      "text/plain": "interactive(children=(FloatSlider(value=0.0, description='w0', max=1.0, min=-1.0), FloatSlider(value=0.0, desc…",
      "application/vnd.jupyter.widget-view+json": {
       "version_major": 2,
       "version_minor": 0,
       "model_id": "3399c88b58be4c059159a70c0e9b4d67"
      }
     },
     "metadata": {}
    }
   ],
   "source": [
    "a = np.arange(-5, 5)\n",
    "U, V = np.meshgrid(a, a)\n",
    "\n",
    "target_arch = [2, 4, 4, 2, 1]\n",
    "weights_def = {}\n",
    "bias_def = {}\n",
    "\n",
    "input_size = target_arch[0]\n",
    "neuronal_functions = [[logsig, logsig, purelin, purelin], [logsig, logsig, purelin, purelin], [logsig, purelin], logsig]\n",
    "\n",
    "w_index = 0\n",
    "b_index = 0\n",
    "\n",
    "for number_neuron in target_arch[1:]:\n",
    "    for i in range(0, number_neuron):\n",
    "        for j in range(0, input_size):\n",
    "            weights_def[\"w\" + str(w_index)] = (-1,1,0.1)\n",
    "            w_index += 1\n",
    "\n",
    "        bias_def[\"b\" + str(b_index)] = (-1,1,0.1)\n",
    "        b_index += 1\n",
    "    input_size = number_neuron\n",
    "\n",
    "nn = MultilayerPerceptron.generate(target_arch, neuronal_functions)\n",
    "\n",
    "def f(**kwargs):\n",
    "    X = U\n",
    "    Y = V\n",
    "    a = nn.predict(p1=X, p2=Y, **kwargs)\n",
    "\n",
    "    ipv.figure(width=400,height=600, offline=True)    \n",
    "    ipv.plot_surface(X, Y, a, color=\"orange\")\n",
    "    ipv.plot_wireframe(X, Y, a, color=\"red\")\n",
    "    show_point(0,0,0)\n",
    "    draw_grid(X,Y,0)\n",
    "    ipv.show()\n",
    "\n",
    "interactive_plot = interactive(\n",
    "    f, **weights_def, **bias_def\n",
    ")\n",
    "# for child in interactive_plot.children:\n",
    "#     if child.__class__ == FloatSlider:\n",
    "#         child.value = 1.0\n",
    "output = interactive_plot.children[-1]\n",
    "interactive_plot"
   ]
  },
  {
   "cell_type": "code",
   "execution_count": null,
   "metadata": {},
   "outputs": [],
   "source": []
  }
 ],
 "metadata": {
  "kernelspec": {
   "display_name": "Python 3.6.5 64-bit ('pydeep': virtualenv)",
   "language": "python",
   "name": "python36564bitpydeepvirtualenvfedb6568ef3d4e13bf936bb2af8dcf94"
  },
  "language_info": {
   "codemirror_mode": {
    "name": "ipython",
    "version": 3
   },
   "file_extension": ".py",
   "mimetype": "text/x-python",
   "name": "python",
   "nbconvert_exporter": "python",
   "pygments_lexer": "ipython3",
   "version": "3.6.5-final"
  }
 },
 "nbformat": 4,
 "nbformat_minor": 4
}