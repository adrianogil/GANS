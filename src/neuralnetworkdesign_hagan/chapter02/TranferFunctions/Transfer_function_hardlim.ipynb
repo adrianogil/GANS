{
 "cells": [
  {
   "cell_type": "markdown",
   "metadata": {},
   "source": [
    "# Transfer Function - Purelin"
   ]
  },
  {
   "cell_type": "markdown",
   "metadata": {},
   "source": [
    "## Loading modules"
   ]
  },
  {
   "cell_type": "code",
   "execution_count": 1,
   "metadata": {},
   "outputs": [],
   "source": [
    "import ipyvolume as ipv\n",
    "import numpy as np\n",
    "from ipywidgets import interactive\n",
    "import matplotlib.pyplot as plt"
   ]
  },
  {
   "cell_type": "markdown",
   "metadata": {},
   "source": [
    "## Helper functions"
   ]
  },
  {
   "cell_type": "code",
   "execution_count": 2,
   "metadata": {
    "scrolled": true
   },
   "outputs": [],
   "source": [
    "def na(x):\n",
    "    return np.array(x)\n",
    "\n",
    "def draw_grid(x,y,z):\n",
    "    ipv.plot_wireframe(x, y, z * np.ones(x.shape), color=\"black\")\n",
    "\n",
    "def show_point(x,y,z):\n",
    "    x = na([float(x)])\n",
    "    y = na([float(y)])\n",
    "    z = na([float(z)])\n",
    "    ipv.scatter(x,y,z, color=\"blue\", marker=\"sphere\",size=5)"
   ]
  },
  {
   "cell_type": "markdown",
   "metadata": {},
   "source": [
    "## Define Neuron"
   ]
  },
  {
   "cell_type": "code",
   "execution_count": 3,
   "metadata": {},
   "outputs": [],
   "source": [
    "def neuron(f,input,weight,bias):\n",
    "    return f(input * weight + bias)"
   ]
  },
  {
   "cell_type": "markdown",
   "metadata": {},
   "source": [
    "## Define Neural Transfer Function: hardlim"
   ]
  },
  {
   "cell_type": "code",
   "execution_count": 6,
   "metadata": {},
   "outputs": [],
   "source": [
    "def hardlim(n):\n",
    "    return np.heaviside(n, 1)\n",
    "\n",
    "neural_function = hardlim"
   ]
  },
  {
   "cell_type": "code",
   "execution_count": 7,
   "metadata": {},
   "outputs": [
    {
     "output_type": "display_data",
     "data": {
      "text/plain": "interactive(children=(FloatSlider(value=0.0, description='weight', max=1.0, min=-1.0), FloatSlider(value=0.0, …",
      "application/vnd.jupyter.widget-view+json": {
       "version_major": 2,
       "version_minor": 0,
       "model_id": "5fc699d277e04dd6af611596ea955fcf"
      }
     },
     "metadata": {}
    }
   ],
   "source": [
    "%matplotlib inline\n",
    "\n",
    "def f(weight,bias):\n",
    "    plt.figure(2)\n",
    "    x = np.linspace(-2, 2, num=1000)\n",
    "    a = neuron(neural_function,x,weight,bias)\n",
    "    plt.plot(x, a)\n",
    "    plt.ylim(-3, 3)\n",
    "    plt.xlim(-2, 2)\n",
    "    plt.show()\n",
    "\n",
    "interactive_plot = interactive(f, weight=(-1,1,0.1), bias=(-3, 3, 0.1))\n",
    "output = interactive_plot.children[-1]\n",
    "output.layout.height = '350px'\n",
    "interactive_plot"
   ]
  },
  {
   "cell_type": "code",
   "execution_count": 11,
   "metadata": {
    "scrolled": false
   },
   "outputs": [
    {
     "output_type": "display_data",
     "data": {
      "text/plain": "interactive(children=(FloatSlider(value=0.0, description='weight1', max=1.0, min=-1.0), FloatSlider(value=0.0,…",
      "application/vnd.jupyter.widget-view+json": {
       "version_major": 2,
       "version_minor": 0,
       "model_id": "3fcf71da39624ffc9137610138b7b78a"
      }
     },
     "metadata": {}
    }
   ],
   "source": [
    "a = np.arange(-5, 5)\n",
    "U, V = np.meshgrid(a, a)\n",
    "\n",
    "def f(weight1,weight2,bias):\n",
    "    X = U\n",
    "    Y = V\n",
    "    Z = X+Y+bias * np.ones(Y.shape)\n",
    "\n",
    "    a = neural_function(weight1 * X + weight2 * Y + bias*np.ones(Y.shape))\n",
    "\n",
    "    ipv.figure(width=400,height=600)    \n",
    "    ipv.plot_surface(X, Y, a, color=\"orange\")\n",
    "    ipv.plot_wireframe(X, Y, a, color=\"red\")\n",
    "    show_point(0,0,0)\n",
    "    draw_grid(X,Y,0)\n",
    "    ipv.show()\n",
    "\n",
    "interactive_plot = interactive(f, weight1=(-1,1,0.1), weight2=(-1,1,0.1), bias=(-3, 3, 0.1))\n",
    "output = interactive_plot.children[-1]\n",
    "output.layout.height = '600px'\n",
    "interactive_plot\n"
   ]
  },
  {
   "cell_type": "code",
   "execution_count": null,
   "metadata": {},
   "outputs": [],
   "source": []
  }
 ],
 "metadata": {
  "kernelspec": {
   "display_name": "Python 3.6.5 64-bit ('pydeep': virtualenv)",
   "language": "python",
   "name": "python36564bitpydeepvirtualenvfedb6568ef3d4e13bf936bb2af8dcf94"
  },
  "language_info": {
   "codemirror_mode": {
    "name": "ipython",
    "version": 3
   },
   "file_extension": ".py",
   "mimetype": "text/x-python",
   "name": "python",
   "nbconvert_exporter": "python",
   "pygments_lexer": "ipython3",
   "version": "3.6.5-final"
  }
 },
 "nbformat": 4,
 "nbformat_minor": 4
}